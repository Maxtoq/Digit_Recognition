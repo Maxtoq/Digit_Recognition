{
 "cells": [
  {
   "cell_type": "markdown",
   "metadata": {},
   "source": [
    "1 - Imports"
   ]
  },
  {
   "cell_type": "code",
   "execution_count": 2,
   "metadata": {},
   "outputs": [],
   "source": [
    "import numpy as np\n",
    "import pandas as pd\n",
    "import os\n",
    "import warnings\n",
    "warnings.filterwarnings('ignore')\n",
    "from itertools import zip_longest"
   ]
  },
  {
   "cell_type": "markdown",
   "metadata": {},
   "source": [
    "2 - Extract data"
   ]
  },
  {
   "cell_type": "code",
   "execution_count": 3,
   "metadata": {},
   "outputs": [],
   "source": [
    "def extract_data(data_file, label_file):\n",
    "    # Create dataframe\n",
    "    data = []\n",
    "    label = []\n",
    "\n",
    "    # For each line in the two files\n",
    "    for line_data, line_label in zip_longest(open(data_file), open(label_file)):\n",
    "        # Add data to our array\n",
    "        data.append(list(map(float, line_data.split(','))))\n",
    "        \n",
    "        # Add label to our array\n",
    "        label.append(int(line_label))\n",
    "    \n",
    "    return np.array(data), np.array(label)\n",
    "\n",
    "X, y = extract_data(\"image_0.txt\", \"label.txt\")"
   ]
  },
  {
   "cell_type": "markdown",
   "metadata": {},
   "source": [
    "3 - Separate data between training and testing data"
   ]
  },
  {
   "cell_type": "code",
   "execution_count": 4,
   "metadata": {},
   "outputs": [],
   "source": [
    "def train_test_split(X, y, percentage=0.8):\n",
    "    nb_train_lines = round(500 * percentage)\n",
    "    nb_test_lines = 500 - nb_train_lines\n",
    "    \n",
    "    X_train = np.empty((10 * nb_train_lines, 400))\n",
    "    y_train = np.empty((10 * nb_train_lines))\n",
    "    X_test = np.empty((10 * nb_test_lines, 400))\n",
    "    y_test = np.empty((10 * nb_test_lines))\n",
    "    \n",
    "    for i in range(0, 10):        \n",
    "        X_train[i * nb_train_lines:(i + 1) * nb_train_lines] = X[i * 500:(i * 500) + nb_train_lines]\n",
    "        y_train[i * nb_train_lines:(i + 1) * nb_train_lines] = y[i * 500:(i * 500) + nb_train_lines]\n",
    "        X_test[i * nb_test_lines:(i + 1) * nb_test_lines] = X[(i * 500) + nb_train_lines:(i + 1) * 500]\n",
    "        y_test[i * nb_test_lines:(i + 1) * nb_test_lines] = y[(i * 500) + nb_train_lines:(i + 1) * 500]\n",
    "    \n",
    "    return X_train, y_train, X_test, y_test\n",
    "\n",
    "X_train, y_train, X_test, y_test = train_test_split(X, y)"
   ]
  },
  {
   "cell_type": "markdown",
   "metadata": {},
   "source": [
    "4 - Implement the feed-forward neural network"
   ]
  },
  {
   "cell_type": "code",
   "execution_count": 7,
   "metadata": {},
   "outputs": [
    {
     "data": {
      "text/plain": [
       "array([[0., 0., 0., ..., 0., 0., 0.],\n",
       "       [0., 0., 0., ..., 0., 0., 0.],\n",
       "       [0., 0., 0., ..., 0., 0., 0.],\n",
       "       ...,\n",
       "       [0., 0., 0., ..., 0., 0., 0.],\n",
       "       [0., 0., 0., ..., 0., 0., 0.],\n",
       "       [0., 0., 0., ..., 0., 0., 0.]])"
      ]
     },
     "execution_count": 7,
     "metadata": {},
     "output_type": "execute_result"
    }
   ],
   "source": [
    "X_train"
   ]
  },
  {
   "cell_type": "code",
   "execution_count": 9,
   "metadata": {},
   "outputs": [
    {
     "name": "stdout",
     "output_type": "stream",
     "text": [
      "(4000, 401)\n",
      "(4000, 15)\n",
      "(4000, 15)\n",
      "(4000, 16)\n",
      "(4000, 10)\n",
      "(4000, 10)\n"
     ]
    },
    {
     "data": {
      "text/plain": [
       "array([[0.99266006, 0.04227275, 0.99404576, ..., 0.68931767, 0.80553708,\n",
       "        0.30580971],\n",
       "       [0.99295121, 0.04148551, 0.99345252, ..., 0.64227458, 0.81675526,\n",
       "        0.33089199],\n",
       "       [0.99282294, 0.0337804 , 0.99684201, ..., 0.32363273, 0.9759784 ,\n",
       "        0.78922344],\n",
       "       ...,\n",
       "       [0.98701553, 0.22343405, 0.76437129, ..., 0.62864083, 0.77703739,\n",
       "        0.70493048],\n",
       "       [0.8934198 , 0.37759549, 0.62844092, ..., 0.64029571, 0.46488468,\n",
       "        0.65289592],\n",
       "       [0.85618056, 0.36837184, 0.95777296, ..., 0.55846562, 0.84990446,\n",
       "        0.64581282]])"
      ]
     },
     "execution_count": 9,
     "metadata": {},
     "output_type": "execute_result"
    }
   ],
   "source": [
    "def sigmoid(x):\n",
    "    return 1 / (1 + np.exp(-x))\n",
    "\n",
    "class FFNN:\n",
    "    \"\"\" Feed-Forward Neural Network with one hidden layer. \"\"\"\n",
    "    \n",
    "    def __init__(self, input_size, hidden_layer_size):\n",
    "        self.nb_layers = 3\n",
    "        self.hidden_layer_size = hidden_layer_size\n",
    "        \n",
    "        # First level of weights\n",
    "        self.w1 = np.random.randn(input_size + 1, self.hidden_layer_size)\n",
    "    \n",
    "        # Second level of weights\n",
    "        self.w2 = np.random.randn(self.hidden_layer_size + 1, 10)\n",
    "        \n",
    "    def forward(self, X):\n",
    "        # Add intercept column (column of ones)\n",
    "        out = np.concatenate((np.ones((X.shape[0], 1)), X), axis=1)\n",
    "        print(out.shape)\n",
    "        \n",
    "        # Multiply by the weights\n",
    "        out = np.dot(out, self.w1)\n",
    "        print(out.shape)\n",
    "        \n",
    "        # Go through the first activation (sigmoid)\n",
    "        out = sigmoid(out)\n",
    "        print(out.shape)\n",
    "        \n",
    "        # Add intercept column (column of ones)\n",
    "        out = np.concatenate((np.ones((out.shape[0], 1)), out), axis=1)\n",
    "        print(out.shape)\n",
    "        \n",
    "        # Multiply by the weights\n",
    "        out = np.dot(out, self.w2)\n",
    "        print(out.shape)\n",
    "        \n",
    "        # Go through the second activation (sigmoid)\n",
    "        out = sigmoid(out)\n",
    "        print(out.shape)\n",
    "        \n",
    "        return out\n",
    "        \n",
    "\n",
    "ffnn = FFNN(X_train.shape[1], 15)\n",
    "ffnn.forward(X_train)"
   ]
  }
 ],
 "metadata": {
  "kernelspec": {
   "display_name": "Python 3",
   "language": "python",
   "name": "python3"
  },
  "language_info": {
   "codemirror_mode": {
    "name": "ipython",
    "version": 3
   },
   "file_extension": ".py",
   "mimetype": "text/x-python",
   "name": "python",
   "nbconvert_exporter": "python",
   "pygments_lexer": "ipython3",
   "version": "3.7.1"
  }
 },
 "nbformat": 4,
 "nbformat_minor": 2
}
