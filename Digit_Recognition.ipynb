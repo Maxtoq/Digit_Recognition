{
 "cells": [
  {
   "cell_type": "markdown",
   "metadata": {},
   "source": [
    "1 - Imports"
   ]
  },
  {
   "cell_type": "code",
   "execution_count": 3,
   "metadata": {},
   "outputs": [],
   "source": [
    "import numpy as np\n",
    "import pandas as pd\n",
    "import os\n",
    "import warnings\n",
    "warnings.filterwarnings('ignore')\n",
    "from itertools import zip_longest"
   ]
  },
  {
   "cell_type": "markdown",
   "metadata": {},
   "source": [
    "2 - Extract data"
   ]
  },
  {
   "cell_type": "code",
   "execution_count": 56,
   "metadata": {},
   "outputs": [],
   "source": [
    "def extract_data(data_file, label_file):\n",
    "    # Create dataframe\n",
    "    data = []\n",
    "    label = []\n",
    "\n",
    "    # For each line in the two files\n",
    "    for line_data, line_label in zip_longest(open(data_file), open(label_file)):\n",
    "        # Add data to our array\n",
    "        data.append(list(map(float, line_data.split(','))))\n",
    "        \n",
    "        # Add label to our array\n",
    "        label.append(int(line_label))\n",
    "    \n",
    "    return np.array(data), np.array(label)\n",
    "\n",
    "X, y = extract_data(\"image_0.txt\", \"label.txt\")"
   ]
  },
  {
   "cell_type": "markdown",
   "metadata": {},
   "source": [
    "3 - Separate data between training and testing data"
   ]
  },
  {
   "cell_type": "code",
   "execution_count": 81,
   "metadata": {},
   "outputs": [],
   "source": [
    "def train_test_split(X, y, percentage=0.8):\n",
    "    nb_train_lines = round(500 * percentage)\n",
    "    nb_test_lines = 500 - nb_train_lines\n",
    "    \n",
    "    X_train = np.empty((10 * nb_train_lines, 400))\n",
    "    y_train = np.empty((10 * nb_train_lines))\n",
    "    X_test = np.empty((10 * nb_test_lines, 400))\n",
    "    y_test = np.empty((10 * nb_test_lines))\n",
    "    \n",
    "    for i in range(0, 10):        \n",
    "        X_train[i * nb_train_lines:(i + 1) * nb_train_lines] = X[i * 500:(i * 500) + nb_train_lines]\n",
    "        y_train[i * nb_train_lines:(i + 1) * nb_train_lines] = y[i * 500:(i * 500) + nb_train_lines]\n",
    "        X_test[i * nb_test_lines:(i + 1) * nb_test_lines] = X[(i * 500) + nb_train_lines:(i + 1) * 500]\n",
    "        y_test[i * nb_test_lines:(i + 1) * nb_test_lines] = y[(i * 500) + nb_train_lines:(i + 1) * 500]\n",
    "    \n",
    "    return X_train, y_train, X_test, y_test\n",
    "\n",
    "X_train, y_train, X_test, y_test = train_test_split(X, y)"
   ]
  },
  {
   "cell_type": "markdown",
   "metadata": {},
   "source": [
    "4 - Implement the feed-forward neural network"
   ]
  },
  {
   "cell_type": "code",
   "execution_count": null,
   "metadata": {},
   "outputs": [],
   "source": []
  }
 ],
 "metadata": {
  "kernelspec": {
   "display_name": "Python 3",
   "language": "python",
   "name": "python3"
  },
  "language_info": {
   "codemirror_mode": {
    "name": "ipython",
    "version": 3
   },
   "file_extension": ".py",
   "mimetype": "text/x-python",
   "name": "python",
   "nbconvert_exporter": "python",
   "pygments_lexer": "ipython3",
   "version": "3.7.1"
  }
 },
 "nbformat": 4,
 "nbformat_minor": 2
}
